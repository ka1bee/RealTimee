{
 "cells": [
  {
   "cell_type": "code",
   "execution_count": 1,
   "id": "342c1ab7-458e-4c92-949b-d342bc1d5e80",
   "metadata": {
    "tags": []
   },
   "outputs": [],
   "source": [
    "import cv2\n",
    "import os\n",
    "import time\n",
    "import uuid"
   ]
  },
  {
   "cell_type": "code",
   "execution_count": 2,
   "id": "bb53db27-2134-43c9-b359-4dfeca355c7f",
   "metadata": {
    "tags": []
   },
   "outputs": [],
   "source": [
    "IMAGES_PATH = 'Tensorflow/workspace/images/collectedimages'\n"
   ]
  },
  {
   "cell_type": "code",
   "execution_count": 3,
   "id": "b75ea00e-cfb6-442b-9bc2-835c40aa399f",
   "metadata": {
    "tags": []
   },
   "outputs": [],
   "source": [
    "labels = ['hello','thanks', 'yes' , 'no' , 'iloveyou']\n",
    "\n",
    "number_imgs = 15"
   ]
  },
  {
   "cell_type": "code",
   "execution_count": null,
   "id": "eb3b3f75-8b10-4846-a1db-a114b86e9aa1",
   "metadata": {
    "tags": []
   },
   "outputs": [
    {
     "name": "stdout",
     "output_type": "stream",
     "text": [
      "Collecting images for hello\n"
     ]
    }
   ],
   "source": [
    "for label in labels:\n",
    "    !mkdir {'Tensorflow\\workspace\\images\\collectedimages\\\\' + label}\n",
    "    cap = cv2.VideoCapture(0)\n",
    "    print('Collecting images for {}'.format(label))\n",
    "    time.sleep(5)\n",
    "    for imgnum in range(number_imgs):\n",
    "        ret, frame = cap.read()\n",
    "        if not ret:\n",
    "            break\n",
    "        imgname = os.path.join(IMAGES_PATH, label, label+'.'+'{}.jpg'.format(str(uuid.uuid1())))\n",
    "        cv2.imwrite(imgname, frame)\n",
    "        cv2.imshow('frame', frame)\n",
    "        time.sleep(2)\n",
    "        if cv2.waitKey(1) & 0xFF == ord('q'):\n",
    "            break\n",
    "    cap.release()\n"
   ]
  },
  {
   "cell_type": "code",
   "execution_count": 8,
   "id": "5adc6575-63c1-448f-aae7-6f0446e285cf",
   "metadata": {
    "collapsed": true,
    "jupyter": {
     "outputs_hidden": true
    },
    "tags": []
   },
   "outputs": [
    {
     "name": "stdout",
     "output_type": "stream",
     "text": [
      "Collecting pyqt5\n",
      "  Downloading PyQt5-5.15.9-cp37-abi3-win_amd64.whl (6.8 MB)\n",
      "     ---------------------------------------- 0.0/6.8 MB ? eta -:--:--\n",
      "     ---------------------------------------- 0.0/6.8 MB 660.6 kB/s eta 0:00:11\n",
      "     ---------------------------------------- 0.0/6.8 MB 393.8 kB/s eta 0:00:18\n",
      "      --------------------------------------- 0.1/6.8 MB 819.2 kB/s eta 0:00:09\n",
      "      --------------------------------------- 0.2/6.8 MB 766.6 kB/s eta 0:00:09\n",
      "     - -------------------------------------- 0.2/6.8 MB 1.0 MB/s eta 0:00:07\n",
      "     -- ------------------------------------- 0.4/6.8 MB 1.3 MB/s eta 0:00:05\n",
      "     -- ------------------------------------- 0.5/6.8 MB 1.6 MB/s eta 0:00:04\n",
      "     ---- ----------------------------------- 0.8/6.8 MB 2.2 MB/s eta 0:00:03\n",
      "     ------ --------------------------------- 1.0/6.8 MB 2.4 MB/s eta 0:00:03\n",
      "     -------- ------------------------------- 1.4/6.8 MB 3.1 MB/s eta 0:00:02\n",
      "     ------------ --------------------------- 2.2/6.8 MB 4.2 MB/s eta 0:00:02\n",
      "     ----------------- ---------------------- 2.9/6.8 MB 5.2 MB/s eta 0:00:01\n",
      "     --------------------- ------------------ 3.7/6.8 MB 6.1 MB/s eta 0:00:01\n",
      "     ------------------------ --------------- 4.2/6.8 MB 6.6 MB/s eta 0:00:01\n",
      "     -------------------------- ------------- 4.6/6.8 MB 6.7 MB/s eta 0:00:01\n",
      "     ---------------------------- ----------- 4.9/6.8 MB 6.6 MB/s eta 0:00:01\n",
      "     ----------------------------- ---------- 5.1/6.8 MB 6.5 MB/s eta 0:00:01\n",
      "     ------------------------------- -------- 5.4/6.8 MB 6.3 MB/s eta 0:00:01\n",
      "     -------------------------------- ------- 5.6/6.8 MB 6.2 MB/s eta 0:00:01\n",
      "     --------------------------------- ------ 5.8/6.8 MB 6.2 MB/s eta 0:00:01\n",
      "     ---------------------------------- ----- 5.9/6.8 MB 6.2 MB/s eta 0:00:01\n",
      "     ---------------------------------- ----- 5.9/6.8 MB 6.2 MB/s eta 0:00:01\n",
      "     ---------------------------------- ----- 5.9/6.8 MB 5.6 MB/s eta 0:00:01\n",
      "     ---------------------------------- ----- 5.9/6.8 MB 5.6 MB/s eta 0:00:01\n",
      "     ---------------------------------- ----- 5.9/6.8 MB 5.1 MB/s eta 0:00:01\n",
      "     ---------------------------------- ----- 5.9/6.8 MB 5.1 MB/s eta 0:00:01\n",
      "     ---------------------------------- ----- 6.0/6.8 MB 4.8 MB/s eta 0:00:01\n",
      "     ---------------------------------- ----- 6.0/6.8 MB 4.8 MB/s eta 0:00:01\n",
      "     ----------------------------------- ---- 6.0/6.8 MB 4.5 MB/s eta 0:00:01\n",
      "     ----------------------------------- ---- 6.0/6.8 MB 4.5 MB/s eta 0:00:01\n",
      "     ----------------------------------- ---- 6.1/6.8 MB 4.3 MB/s eta 0:00:01\n",
      "     ----------------------------------- ---- 6.1/6.8 MB 4.1 MB/s eta 0:00:01\n",
      "     ------------------------------------ --- 6.2/6.8 MB 4.1 MB/s eta 0:00:01\n",
      "     ------------------------------------ --- 6.2/6.8 MB 4.0 MB/s eta 0:00:01\n",
      "     ------------------------------------ --- 6.3/6.8 MB 3.9 MB/s eta 0:00:01\n",
      "     ------------------------------------- -- 6.4/6.8 MB 3.8 MB/s eta 0:00:01\n",
      "     ------------------------------------- -- 6.4/6.8 MB 3.8 MB/s eta 0:00:01\n",
      "     -------------------------------------- - 6.5/6.8 MB 3.7 MB/s eta 0:00:01\n",
      "     -------------------------------------- - 6.6/6.8 MB 3.6 MB/s eta 0:00:01\n",
      "     ---------------------------------------  6.7/6.8 MB 3.6 MB/s eta 0:00:01\n",
      "     ---------------------------------------  6.7/6.8 MB 3.5 MB/s eta 0:00:01\n",
      "     ---------------------------------------  6.8/6.8 MB 3.5 MB/s eta 0:00:01\n",
      "     ---------------------------------------  6.8/6.8 MB 3.4 MB/s eta 0:00:01\n",
      "     ---------------------------------------- 6.8/6.8 MB 3.4 MB/s eta 0:00:00\n",
      "Collecting lxml\n",
      "  Using cached lxml-4.9.2-cp310-cp310-win_amd64.whl (3.8 MB)\n",
      "Collecting PyQt5-Qt5>=5.15.2\n",
      "  Downloading PyQt5_Qt5-5.15.2-py3-none-win_amd64.whl (50.1 MB)\n",
      "     ---------------------------------------- 0.0/50.1 MB ? eta -:--:--\n",
      "     ---------------------------------------- 0.4/50.1 MB 8.1 MB/s eta 0:00:07\n",
      "      --------------------------------------- 0.8/50.1 MB 8.5 MB/s eta 0:00:06\n",
      "     - -------------------------------------- 2.2/50.1 MB 15.3 MB/s eta 0:00:04\n",
      "     --- ------------------------------------ 3.8/50.1 MB 19.9 MB/s eta 0:00:03\n",
      "     ---- ----------------------------------- 5.2/50.1 MB 23.9 MB/s eta 0:00:02\n",
      "     ----- ---------------------------------- 6.8/50.1 MB 24.0 MB/s eta 0:00:02\n",
      "     ------ --------------------------------- 8.3/50.1 MB 25.2 MB/s eta 0:00:02\n",
      "     ------- -------------------------------- 9.8/50.1 MB 26.2 MB/s eta 0:00:02\n",
      "     -------- ------------------------------ 11.4/50.1 MB 32.7 MB/s eta 0:00:02\n",
      "     --------- ----------------------------- 12.7/50.1 MB 31.2 MB/s eta 0:00:02\n",
      "     ----------- --------------------------- 14.4/50.1 MB 31.2 MB/s eta 0:00:02\n",
      "     ------------ -------------------------- 15.9/50.1 MB 31.1 MB/s eta 0:00:02\n",
      "     ------------- ------------------------- 17.4/50.1 MB 32.7 MB/s eta 0:00:02\n",
      "     -------------- ------------------------ 18.9/50.1 MB 34.4 MB/s eta 0:00:01\n",
      "     --------------- ----------------------- 20.5/50.1 MB 32.7 MB/s eta 0:00:01\n",
      "     ----------------- --------------------- 22.1/50.1 MB 34.6 MB/s eta 0:00:01\n",
      "     ------------------ -------------------- 23.7/50.1 MB 34.4 MB/s eta 0:00:01\n",
      "     ------------------- ------------------- 25.4/50.1 MB 34.4 MB/s eta 0:00:01\n",
      "     --------------------- ----------------- 27.0/50.1 MB 34.4 MB/s eta 0:00:01\n",
      "     ---------------------- ---------------- 28.5/50.1 MB 34.4 MB/s eta 0:00:01\n",
      "     ----------------------- --------------- 30.2/50.1 MB 34.4 MB/s eta 0:00:01\n",
      "     ------------------------ -------------- 31.8/50.1 MB 34.4 MB/s eta 0:00:01\n",
      "     ------------------------- ------------- 33.4/50.1 MB 34.4 MB/s eta 0:00:01\n",
      "     --------------------------- ----------- 34.9/50.1 MB 34.6 MB/s eta 0:00:01\n",
      "     ---------------------------- ---------- 36.4/50.1 MB 34.4 MB/s eta 0:00:01\n",
      "     ----------------------------- --------- 38.1/50.1 MB 34.4 MB/s eta 0:00:01\n",
      "     ------------------------------ -------- 39.6/50.1 MB 34.4 MB/s eta 0:00:01\n",
      "     -------------------------------- ------ 41.2/50.1 MB 34.4 MB/s eta 0:00:01\n",
      "     --------------------------------- ----- 42.8/50.1 MB 34.4 MB/s eta 0:00:01\n",
      "     ---------------------------------- ---- 44.5/50.1 MB 34.4 MB/s eta 0:00:01\n",
      "     ----------------------------------- --- 46.2/50.1 MB 34.4 MB/s eta 0:00:01\n",
      "     ------------------------------------- - 47.7/50.1 MB 34.6 MB/s eta 0:00:01\n",
      "     --------------------------------------  49.2/50.1 MB 34.4 MB/s eta 0:00:01\n",
      "     --------------------------------------  50.1/50.1 MB 34.4 MB/s eta 0:00:01\n",
      "     --------------------------------------  50.1/50.1 MB 34.4 MB/s eta 0:00:01\n",
      "     --------------------------------------  50.1/50.1 MB 34.4 MB/s eta 0:00:01\n",
      "     --------------------------------------- 50.1/50.1 MB 22.6 MB/s eta 0:00:00\n",
      "Collecting PyQt5-sip<13,>=12.11\n",
      "  Downloading PyQt5_sip-12.11.1-cp310-cp310-win_amd64.whl (78 kB)\n",
      "     ---------------------------------------- 0.0/78.4 kB ? eta -:--:--\n",
      "     ---------------------------------------- 78.4/78.4 kB 4.5 MB/s eta 0:00:00\n",
      "Installing collected packages: PyQt5-Qt5, PyQt5-sip, lxml, pyqt5\n",
      "Successfully installed PyQt5-Qt5-5.15.2 PyQt5-sip-12.11.1 lxml-4.9.2 pyqt5-5.15.9\n"
     ]
    }
   ],
   "source": [
    "!pip install --upgrade pyqt5 lxml"
   ]
  },
  {
   "cell_type": "code",
   "execution_count": 9,
   "id": "ca619134-53c0-47de-a220-94dc8702b97e",
   "metadata": {
    "collapsed": true,
    "jupyter": {
     "outputs_hidden": true
    },
    "tags": []
   },
   "outputs": [
    {
     "name": "stdout",
     "output_type": "stream",
     "text": [
      "Package                  Version\n",
      "------------------------ ---------\n",
      "absl-py                  1.3.0\n",
      "aiofiles                 22.1.0\n",
      "aiosqlite                0.18.0\n",
      "anyio                    3.6.2\n",
      "argon2-cffi              21.3.0\n",
      "argon2-cffi-bindings     21.2.0\n",
      "arrow                    1.2.3\n",
      "asttokens                2.2.1\n",
      "attrs                    22.2.0\n",
      "Babel                    2.11.0\n",
      "backcall                 0.2.0\n",
      "beautifulsoup4           4.11.2\n",
      "bleach                   6.0.0\n",
      "certifi                  2022.12.7\n",
      "cffi                     1.15.1\n",
      "charset-normalizer       2.1.1\n",
      "colorama                 0.4.6\n",
      "comm                     0.1.2\n",
      "debugpy                  1.6.6\n",
      "decorator                5.1.1\n",
      "defusedxml               0.7.1\n",
      "dill                     0.3.6\n",
      "etils                    0.9.0\n",
      "executing                1.2.0\n",
      "fastjsonschema           2.16.2\n",
      "fqdn                     1.5.1\n",
      "googleapis-common-protos 1.57.0\n",
      "idna                     3.4\n",
      "importlib-resources      5.10.1\n",
      "ipykernel                6.21.2\n",
      "ipython                  8.10.0\n",
      "ipython-genutils         0.2.0\n",
      "isoduration              20.11.0\n",
      "jedi                     0.18.2\n",
      "Jinja2                   3.1.2\n",
      "json5                    0.9.11\n",
      "jsonpointer              2.3\n",
      "jsonschema               4.17.3\n",
      "jupyter_client           8.0.2\n",
      "jupyter_core             5.2.0\n",
      "jupyter-events           0.5.0\n",
      "jupyter_server           2.2.1\n",
      "jupyter_server_fileid    0.6.0\n",
      "jupyter_server_terminals 0.4.4\n",
      "jupyter_server_ydoc      0.6.1\n",
      "jupyter-ydoc             0.2.2\n",
      "jupyterlab               3.6.1\n",
      "jupyterlab-pygments      0.2.2\n",
      "jupyterlab_server        2.19.0\n",
      "lxml                     4.9.2\n",
      "MarkupSafe               2.1.2\n",
      "matplotlib-inline        0.1.6\n",
      "mistune                  2.0.5\n",
      "nbclassic                0.5.1\n",
      "nbclient                 0.7.2\n",
      "nbconvert                7.2.9\n",
      "nbformat                 5.7.3\n",
      "nest-asyncio             1.5.6\n",
      "notebook                 6.5.2\n",
      "notebook_shim            0.2.2\n",
      "numpy                    1.24.2\n",
      "opencv-python            4.7.0.68\n",
      "packaging                23.0\n",
      "pandocfilters            1.5.0\n",
      "parso                    0.8.3\n",
      "pickleshare              0.7.5\n",
      "pip                      23.0\n",
      "platformdirs             3.0.0\n",
      "prometheus-client        0.16.0\n",
      "promise                  2.3\n",
      "prompt-toolkit           3.0.36\n",
      "protobuf                 3.20.3\n",
      "psutil                   5.9.4\n",
      "pure-eval                0.2.2\n",
      "pycparser                2.21\n",
      "Pygments                 2.14.0\n",
      "PyQt5                    5.15.9\n",
      "PyQt5-Qt5                5.15.2\n",
      "PyQt5-sip                12.11.1\n",
      "pyrsistent               0.19.3\n",
      "python-dateutil          2.8.2\n",
      "python-json-logger       2.0.6\n",
      "pytz                     2022.7.1\n",
      "pywin32                  305\n",
      "pywinpty                 2.0.10\n",
      "PyYAML                   6.0\n",
      "pyzmq                    25.0.0\n",
      "requests                 2.28.1\n",
      "rfc3339-validator        0.1.4\n",
      "rfc3986-validator        0.1.1\n",
      "Send2Trash               1.8.0\n",
      "setuptools               57.4.0\n",
      "six                      1.16.0\n",
      "sniffio                  1.3.0\n",
      "soupsieve                2.4\n",
      "stack-data               0.6.2\n",
      "tensorflow-datasets      4.7.0\n",
      "tensorflow-metadata      1.12.0\n",
      "termcolor                2.1.1\n",
      "terminado                0.17.1\n",
      "tinycss2                 1.2.1\n",
      "toml                     0.10.2\n",
      "tomli                    2.0.1\n",
      "tornado                  6.2\n",
      "tqdm                     4.64.1\n",
      "traitlets                5.9.0\n",
      "typing_extensions        4.4.0\n",
      "uri-template             1.2.0\n",
      "urllib3                  1.26.13\n",
      "wcwidth                  0.2.6\n",
      "webcolors                1.12\n",
      "webencodings             0.5.1\n",
      "websocket-client         1.5.1\n",
      "y-py                     0.5.5\n",
      "ypy-websocket            0.8.2\n",
      "zipp                     3.11.0\n"
     ]
    }
   ],
   "source": [
    "!pip list"
   ]
  },
  {
   "cell_type": "code",
   "execution_count": 13,
   "id": "e24c4083-b3b2-423f-91b8-e19fde01579c",
   "metadata": {
    "tags": []
   },
   "outputs": [],
   "source": [
    "LABELIMG_PATH = os.path.join('Tensorflow', 'labelimg')"
   ]
  },
  {
   "cell_type": "code",
   "execution_count": 14,
   "id": "45fdd066-6117-40b0-b2d8-00d6f63b093e",
   "metadata": {
    "tags": []
   },
   "outputs": [
    {
     "name": "stderr",
     "output_type": "stream",
     "text": [
      "Cloning into 'Tensorflow\\labelimg'...\n"
     ]
    }
   ],
   "source": [
    "if not os.path.exists(LABELIMG_PATH):\n",
    "    !mkdir {LABELIMG_PATH}\n",
    "    !git clone https://github.com/heartexlabs/labelImg {LABELIMG_PATH}"
   ]
  },
  {
   "cell_type": "code",
   "execution_count": 15,
   "id": "fffdb644-a550-4e4b-9a2d-d511b8b65515",
   "metadata": {
    "tags": []
   },
   "outputs": [],
   "source": [
    "if os.name == 'posix':\n",
    "    !cd {LABELIMG_PATH} & make qt5py3\n",
    "if os.name == 'nt':\n",
    "    !cd {LABELIMG_PATH} & pyrcc5 -o libs/resources.py resources.qrc"
   ]
  },
  {
   "cell_type": "code",
   "execution_count": 16,
   "id": "7496d9c0-6a8f-44e8-9cea-052969eec5d6",
   "metadata": {
    "collapsed": true,
    "jupyter": {
     "outputs_hidden": true
    },
    "tags": []
   },
   "outputs": [
    {
     "name": "stdout",
     "output_type": "stream",
     "text": [
      "Image:C:\\Users\\Mansur\\RealTimeObjectDetection\\Tensorflow\\workspace\\images\\collectedimages\\hello.2cf3f973-ad61-11ed-9781-4851c5e5d51b.jpg -> Annotation:C:/Users/Mansur/RealTimeObjectDetection/Tensorflow/workspace/images/collectedimages\\hello.2cf3f973-ad61-11ed-9781-4851c5e5d51b.xml\n",
      "Image:C:\\Users\\Mansur\\RealTimeObjectDetection\\Tensorflow\\workspace\\images\\collectedimages\\hello.2e29be61-ad61-11ed-8d6e-4851c5e5d51b.jpg -> Annotation:C:/Users/Mansur/RealTimeObjectDetection/Tensorflow/workspace/images/collectedimages\\hello.2e29be61-ad61-11ed-8d6e-4851c5e5d51b.xml\n",
      "Cancel creation.\n",
      "Cancel creation.\n",
      "Image:C:\\Users\\Mansur\\RealTimeObjectDetection\\Tensorflow\\workspace\\images\\collectedimages\\hello.2f5fc3d7-ad61-11ed-9f24-4851c5e5d51b.jpg -> Annotation:C:/Users/Mansur/RealTimeObjectDetection/Tensorflow/workspace/images/collectedimages\\hello.2f5fc3d7-ad61-11ed-9f24-4851c5e5d51b.xml\n",
      "Cancel creation.\n",
      "Image:C:\\Users\\Mansur\\RealTimeObjectDetection\\Tensorflow\\workspace\\images\\collectedimages\\hello.3a36fd96-ad61-11ed-af66-4851c5e5d51b.jpg -> Annotation:C:/Users/Mansur/RealTimeObjectDetection/Tensorflow/workspace/images/collectedimages\\hello.3a36fd96-ad61-11ed-af66-4851c5e5d51b.xml\n",
      "Image:C:\\Users\\Mansur\\RealTimeObjectDetection\\Tensorflow\\workspace\\images\\collectedimages\\hello.3b6a6574-ad61-11ed-aa59-4851c5e5d51b.jpg -> Annotation:C:/Users/Mansur/RealTimeObjectDetection/Tensorflow/workspace/images/collectedimages\\hello.3b6a6574-ad61-11ed-aa59-4851c5e5d51b.xml\n",
      "Image:C:\\Users\\Mansur\\RealTimeObjectDetection\\Tensorflow\\workspace\\images\\collectedimages\\hello.3c9e5846-ad61-11ed-99bc-4851c5e5d51b.jpg -> Annotation:C:/Users/Mansur/RealTimeObjectDetection/Tensorflow/workspace/images/collectedimages\\hello.3c9e5846-ad61-11ed-99bc-4851c5e5d51b.xml\n",
      "Cancel creation.\n",
      "Image:C:\\Users\\Mansur\\RealTimeObjectDetection\\Tensorflow\\workspace\\images\\collectedimages\\hello.3dd60626-ad61-11ed-aa68-4851c5e5d51b.jpg -> Annotation:C:/Users/Mansur/RealTimeObjectDetection/Tensorflow/workspace/images/collectedimages\\hello.3dd60626-ad61-11ed-aa68-4851c5e5d51b.xml\n",
      "Image:C:\\Users\\Mansur\\RealTimeObjectDetection\\Tensorflow\\workspace\\images\\collectedimages\\hello.31cbcd51-ad61-11ed-923b-4851c5e5d51b.jpg -> Annotation:C:/Users/Mansur/RealTimeObjectDetection/Tensorflow/workspace/images/collectedimages\\hello.31cbcd51-ad61-11ed-923b-4851c5e5d51b.xml\n",
      "Image:C:\\Users\\Mansur\\RealTimeObjectDetection\\Tensorflow\\workspace\\images\\collectedimages\\hello.32fe988e-ad61-11ed-946c-4851c5e5d51b.jpg -> Annotation:C:/Users/Mansur/RealTimeObjectDetection/Tensorflow/workspace/images/collectedimages\\hello.32fe988e-ad61-11ed-946c-4851c5e5d51b.xml\n",
      "Image:C:\\Users\\Mansur\\RealTimeObjectDetection\\Tensorflow\\workspace\\images\\collectedimages\\hello.37cc06d4-ad61-11ed-9f59-4851c5e5d51b.jpg -> Annotation:C:/Users/Mansur/RealTimeObjectDetection/Tensorflow/workspace/images/collectedimages\\hello.37cc06d4-ad61-11ed-9f59-4851c5e5d51b.xml\n",
      "Image:C:\\Users\\Mansur\\RealTimeObjectDetection\\Tensorflow\\workspace\\images\\collectedimages\\hello.3432b28f-ad61-11ed-bfbd-4851c5e5d51b.jpg -> Annotation:C:/Users/Mansur/RealTimeObjectDetection/Tensorflow/workspace/images/collectedimages\\hello.3432b28f-ad61-11ed-bfbd-4851c5e5d51b.xml\n",
      "Image:C:\\Users\\Mansur\\RealTimeObjectDetection\\Tensorflow\\workspace\\images\\collectedimages\\hello.3698a813-ad61-11ed-ae80-4851c5e5d51b.jpg -> Annotation:C:/Users/Mansur/RealTimeObjectDetection/Tensorflow/workspace/images/collectedimages\\hello.3698a813-ad61-11ed-ae80-4851c5e5d51b.xml\n",
      "Image:C:\\Users\\Mansur\\RealTimeObjectDetection\\Tensorflow\\workspace\\images\\collectedimages\\hello.3901ebe9-ad61-11ed-af70-4851c5e5d51b.jpg -> Annotation:C:/Users/Mansur/RealTimeObjectDetection/Tensorflow/workspace/images/collectedimages\\hello.3901ebe9-ad61-11ed-af70-4851c5e5d51b.xml\n",
      "Image:C:\\Users\\Mansur\\RealTimeObjectDetection\\Tensorflow\\workspace\\images\\collectedimages\\hello.35648ec9-ad61-11ed-9185-4851c5e5d51b.jpg -> Annotation:C:/Users/Mansur/RealTimeObjectDetection/Tensorflow/workspace/images/collectedimages\\hello.35648ec9-ad61-11ed-9185-4851c5e5d51b.xml\n",
      "Image:C:\\Users\\Mansur\\RealTimeObjectDetection\\Tensorflow\\workspace\\images\\collectedimages\\hello.30976815-ad61-11ed-bc4e-4851c5e5d51b.jpg -> Annotation:C:/Users/Mansur/RealTimeObjectDetection/Tensorflow/workspace/images/collectedimages\\hello.30976815-ad61-11ed-bc4e-4851c5e5d51b.xml\n",
      "Image:C:\\Users\\Mansur\\RealTimeObjectDetection\\Tensorflow\\workspace\\images\\collectedimages\\iloveyou.8b4de761-ad61-11ed-9023-4851c5e5d51b.jpg -> Annotation:C:/Users/Mansur/RealTimeObjectDetection/Tensorflow/workspace/images/collectedimages\\iloveyou.8b4de761-ad61-11ed-9023-4851c5e5d51b.xml\n",
      "Image:C:\\Users\\Mansur\\RealTimeObjectDetection\\Tensorflow\\workspace\\images\\collectedimages\\iloveyou.8c807567-ad61-11ed-954e-4851c5e5d51b.jpg -> Annotation:C:/Users/Mansur/RealTimeObjectDetection/Tensorflow/workspace/images/collectedimages\\iloveyou.8c807567-ad61-11ed-954e-4851c5e5d51b.xml\n",
      "Image:C:\\Users\\Mansur\\RealTimeObjectDetection\\Tensorflow\\workspace\\images\\collectedimages\\iloveyou.8db6d863-ad61-11ed-a8d7-4851c5e5d51b.jpg -> Annotation:C:/Users/Mansur/RealTimeObjectDetection/Tensorflow/workspace/images/collectedimages\\iloveyou.8db6d863-ad61-11ed-a8d7-4851c5e5d51b.xml\n",
      "Image:C:\\Users\\Mansur\\RealTimeObjectDetection\\Tensorflow\\workspace\\images\\collectedimages\\iloveyou.8eecf5d9-ad61-11ed-b3aa-4851c5e5d51b.jpg -> Annotation:C:/Users/Mansur/RealTimeObjectDetection/Tensorflow/workspace/images/collectedimages\\iloveyou.8eecf5d9-ad61-11ed-b3aa-4851c5e5d51b.xml\n",
      "Image:C:\\Users\\Mansur\\RealTimeObjectDetection\\Tensorflow\\workspace\\images\\collectedimages\\iloveyou.87ad708d-ad61-11ed-8824-4851c5e5d51b.jpg -> Annotation:C:/Users/Mansur/RealTimeObjectDetection/Tensorflow/workspace/images/collectedimages\\iloveyou.87ad708d-ad61-11ed-8824-4851c5e5d51b.xml\n",
      "Image:C:\\Users\\Mansur\\RealTimeObjectDetection\\Tensorflow\\workspace\\images\\collectedimages\\iloveyou.88e3462f-ad61-11ed-b9d6-4851c5e5d51b.jpg -> Annotation:C:/Users/Mansur/RealTimeObjectDetection/Tensorflow/workspace/images/collectedimages\\iloveyou.88e3462f-ad61-11ed-b9d6-4851c5e5d51b.xml\n",
      "Image:C:\\Users\\Mansur\\RealTimeObjectDetection\\Tensorflow\\workspace\\images\\collectedimages\\iloveyou.93bef577-ad61-11ed-85ba-4851c5e5d51b.jpg -> Annotation:C:/Users/Mansur/RealTimeObjectDetection/Tensorflow/workspace/images/collectedimages\\iloveyou.93bef577-ad61-11ed-85ba-4851c5e5d51b.xml\n",
      "Image:C:\\Users\\Mansur\\RealTimeObjectDetection\\Tensorflow\\workspace\\images\\collectedimages\\iloveyou.94f4914c-ad61-11ed-a941-4851c5e5d51b.jpg -> Annotation:C:/Users/Mansur/RealTimeObjectDetection/Tensorflow/workspace/images/collectedimages\\iloveyou.94f4914c-ad61-11ed-a941-4851c5e5d51b.xml\n",
      "Image:C:\\Users\\Mansur\\RealTimeObjectDetection\\Tensorflow\\workspace\\images\\collectedimages\\iloveyou.8540e4c7-ad61-11ed-b1a2-4851c5e5d51b.jpg -> Annotation:C:/Users/Mansur/RealTimeObjectDetection/Tensorflow/workspace/images/collectedimages\\iloveyou.8540e4c7-ad61-11ed-b1a2-4851c5e5d51b.xml\n",
      "Image:C:\\Users\\Mansur\\RealTimeObjectDetection\\Tensorflow\\workspace\\images\\collectedimages\\iloveyou.9155bab1-ad61-11ed-a436-4851c5e5d51b.jpg -> Annotation:C:/Users/Mansur/RealTimeObjectDetection/Tensorflow/workspace/images/collectedimages\\iloveyou.9155bab1-ad61-11ed-a436-4851c5e5d51b.xml\n",
      "Cancel creation.\n",
      "Image:C:\\Users\\Mansur\\RealTimeObjectDetection\\Tensorflow\\workspace\\images\\collectedimages\\iloveyou.90207ebc-ad61-11ed-bd1a-4851c5e5d51b.jpg -> Annotation:C:/Users/Mansur/RealTimeObjectDetection/Tensorflow/workspace/images/collectedimages\\iloveyou.90207ebc-ad61-11ed-bd1a-4851c5e5d51b.xml\n",
      "Image:C:\\Users\\Mansur\\RealTimeObjectDetection\\Tensorflow\\workspace\\images\\collectedimages\\iloveyou.8675803f-ad61-11ed-9bd5-4851c5e5d51b.jpg -> Annotation:C:/Users/Mansur/RealTimeObjectDetection/Tensorflow/workspace/images/collectedimages\\iloveyou.8675803f-ad61-11ed-9bd5-4851c5e5d51b.xml\n",
      "Cancel creation.\n",
      "Cancel creation.\n",
      "Image:C:\\Users\\Mansur\\RealTimeObjectDetection\\Tensorflow\\workspace\\images\\collectedimages\\iloveyou.84086454-ad61-11ed-a7c9-4851c5e5d51b.jpg -> Annotation:C:/Users/Mansur/RealTimeObjectDetection/Tensorflow/workspace/images/collectedimages\\iloveyou.84086454-ad61-11ed-a7c9-4851c5e5d51b.xml\n",
      "Image:C:\\Users\\Mansur\\RealTimeObjectDetection\\Tensorflow\\workspace\\images\\collectedimages\\iloveyou.92895968-ad61-11ed-9c6d-4851c5e5d51b.jpg -> Annotation:C:/Users/Mansur/RealTimeObjectDetection/Tensorflow/workspace/images/collectedimages\\iloveyou.92895968-ad61-11ed-9c6d-4851c5e5d51b.xml\n",
      "Image:C:\\Users\\Mansur\\RealTimeObjectDetection\\Tensorflow\\workspace\\images\\collectedimages\\no.6e4218b3-ad61-11ed-8184-4851c5e5d51b.jpg -> Annotation:C:/Users/Mansur/RealTimeObjectDetection/Tensorflow/workspace/images/collectedimages\\no.6e4218b3-ad61-11ed-8184-4851c5e5d51b.xml\n",
      "Image:C:\\Users\\Mansur\\RealTimeObjectDetection\\Tensorflow\\workspace\\images\\collectedimages\\no.6f778d71-ad61-11ed-98e1-4851c5e5d51b.jpg -> Annotation:C:/Users/Mansur/RealTimeObjectDetection/Tensorflow/workspace/images/collectedimages\\no.6f778d71-ad61-11ed-98e1-4851c5e5d51b.xml\n",
      "Image:C:\\Users\\Mansur\\RealTimeObjectDetection\\Tensorflow\\workspace\\images\\collectedimages\\no.7a52b44e-ad61-11ed-9788-4851c5e5d51b.jpg -> Annotation:C:/Users/Mansur/RealTimeObjectDetection/Tensorflow/workspace/images/collectedimages\\no.7a52b44e-ad61-11ed-9788-4851c5e5d51b.xml\n",
      "Image:C:\\Users\\Mansur\\RealTimeObjectDetection\\Tensorflow\\workspace\\images\\collectedimages\\no.7b88cba7-ad61-11ed-a200-4851c5e5d51b.jpg -> Annotation:C:/Users/Mansur/RealTimeObjectDetection/Tensorflow/workspace/images/collectedimages\\no.7b88cba7-ad61-11ed-a200-4851c5e5d51b.xml\n",
      "Cancel creation.\n",
      "Image:C:\\Users\\Mansur\\RealTimeObjectDetection\\Tensorflow\\workspace\\images\\collectedimages\\no.7cbe0011-ad61-11ed-a830-4851c5e5d51b.jpg -> Annotation:C:/Users/Mansur/RealTimeObjectDetection/Tensorflow/workspace/images/collectedimages\\no.7cbe0011-ad61-11ed-a830-4851c5e5d51b.xml\n",
      "Image:C:\\Users\\Mansur\\RealTimeObjectDetection\\Tensorflow\\workspace\\images\\collectedimages\\no.7df3cc39-ad61-11ed-ae88-4851c5e5d51b.jpg -> Annotation:C:/Users/Mansur/RealTimeObjectDetection/Tensorflow/workspace/images/collectedimages\\no.7df3cc39-ad61-11ed-ae88-4851c5e5d51b.xml\n",
      "Image:C:\\Users\\Mansur\\RealTimeObjectDetection\\Tensorflow\\workspace\\images\\collectedimages\\no.7f27568d-ad61-11ed-b711-4851c5e5d51b.jpg -> Annotation:C:/Users/Mansur/RealTimeObjectDetection/Tensorflow/workspace/images/collectedimages\\no.7f27568d-ad61-11ed-b711-4851c5e5d51b.xml\n",
      "Image:C:\\Users\\Mansur\\RealTimeObjectDetection\\Tensorflow\\workspace\\images\\collectedimages\\no.70acdc91-ad61-11ed-9690-4851c5e5d51b.jpg -> Annotation:C:/Users/Mansur/RealTimeObjectDetection/Tensorflow/workspace/images/collectedimages\\no.70acdc91-ad61-11ed-9690-4851c5e5d51b.xml\n",
      "Image:C:\\Users\\Mansur\\RealTimeObjectDetection\\Tensorflow\\workspace\\images\\collectedimages\\no.71e2bc69-ad61-11ed-9339-4851c5e5d51b.jpg -> Annotation:C:/Users/Mansur/RealTimeObjectDetection/Tensorflow/workspace/images/collectedimages\\no.71e2bc69-ad61-11ed-9339-4851c5e5d51b.xml\n",
      "Image:C:\\Users\\Mansur\\RealTimeObjectDetection\\Tensorflow\\workspace\\images\\collectedimages\\no.76b458c9-ad61-11ed-99c1-4851c5e5d51b.jpg -> Annotation:C:/Users/Mansur/RealTimeObjectDetection/Tensorflow/workspace/images/collectedimages\\no.76b458c9-ad61-11ed-99c1-4851c5e5d51b.xml\n",
      "Image:C:\\Users\\Mansur\\RealTimeObjectDetection\\Tensorflow\\workspace\\images\\collectedimages\\no.77e796b9-ad61-11ed-b66b-4851c5e5d51b.jpg -> Annotation:C:/Users/Mansur/RealTimeObjectDetection/Tensorflow/workspace/images/collectedimages\\no.77e796b9-ad61-11ed-b66b-4851c5e5d51b.xml\n",
      "Cancel creation.\n",
      "Image:C:\\Users\\Mansur\\RealTimeObjectDetection\\Tensorflow\\workspace\\images\\collectedimages\\no.744c71d5-ad61-11ed-96c6-4851c5e5d51b.jpg -> Annotation:C:/Users/Mansur/RealTimeObjectDetection/Tensorflow/workspace/images/collectedimages\\no.744c71d5-ad61-11ed-96c6-4851c5e5d51b.xml\n",
      "Image:C:\\Users\\Mansur\\RealTimeObjectDetection\\Tensorflow\\workspace\\images\\collectedimages\\no.791d3e99-ad61-11ed-a5a1-4851c5e5d51b.jpg -> Annotation:C:/Users/Mansur/RealTimeObjectDetection/Tensorflow/workspace/images/collectedimages\\no.791d3e99-ad61-11ed-a5a1-4851c5e5d51b.xml\n",
      "Image:C:\\Users\\Mansur\\RealTimeObjectDetection\\Tensorflow\\workspace\\images\\collectedimages\\no.7580fca2-ad61-11ed-841f-4851c5e5d51b.jpg -> Annotation:C:/Users/Mansur/RealTimeObjectDetection/Tensorflow/workspace/images/collectedimages\\no.7580fca2-ad61-11ed-841f-4851c5e5d51b.xml\n",
      "Image:C:\\Users\\Mansur\\RealTimeObjectDetection\\Tensorflow\\workspace\\images\\collectedimages\\no.73185035-ad61-11ed-a314-4851c5e5d51b.jpg -> Annotation:C:/Users/Mansur/RealTimeObjectDetection/Tensorflow/workspace/images/collectedimages\\no.73185035-ad61-11ed-a314-4851c5e5d51b.xml\n",
      "Image:C:\\Users\\Mansur\\RealTimeObjectDetection\\Tensorflow\\workspace\\images\\collectedimages\\thanks.4b29e77d-ad61-11ed-94ad-4851c5e5d51b.jpg -> Annotation:C:/Users/Mansur/RealTimeObjectDetection/Tensorflow/workspace/images/collectedimages\\thanks.4b29e77d-ad61-11ed-94ad-4851c5e5d51b.xml\n",
      "Image:C:\\Users\\Mansur\\RealTimeObjectDetection\\Tensorflow\\workspace\\images\\collectedimages\\thanks.4c5d81de-ad61-11ed-adaf-4851c5e5d51b.jpg -> Annotation:C:/Users/Mansur/RealTimeObjectDetection/Tensorflow/workspace/images/collectedimages\\thanks.4c5d81de-ad61-11ed-adaf-4851c5e5d51b.xml\n",
      "Image:C:\\Users\\Mansur\\RealTimeObjectDetection\\Tensorflow\\workspace\\images\\collectedimages\\thanks.4d928235-ad61-11ed-8f14-4851c5e5d51b.jpg -> Annotation:C:/Users/Mansur/RealTimeObjectDetection/Tensorflow/workspace/images/collectedimages\\thanks.4d928235-ad61-11ed-8f14-4851c5e5d51b.xml\n",
      "Image:C:\\Users\\Mansur\\RealTimeObjectDetection\\Tensorflow\\workspace\\images\\collectedimages\\thanks.4ec7190b-ad61-11ed-bcf9-4851c5e5d51b.jpg -> Annotation:C:/Users/Mansur/RealTimeObjectDetection/Tensorflow/workspace/images/collectedimages\\thanks.4ec7190b-ad61-11ed-bcf9-4851c5e5d51b.xml\n",
      "Image:C:\\Users\\Mansur\\RealTimeObjectDetection\\Tensorflow\\workspace\\images\\collectedimages\\thanks.4ffc2914-ad61-11ed-8e6f-4851c5e5d51b.jpg -> Annotation:C:/Users/Mansur/RealTimeObjectDetection/Tensorflow/workspace/images/collectedimages\\thanks.4ffc2914-ad61-11ed-8e6f-4851c5e5d51b.xml\n",
      "Image:C:\\Users\\Mansur\\RealTimeObjectDetection\\Tensorflow\\workspace\\images\\collectedimages\\thanks.42b7abb7-ad61-11ed-abdc-4851c5e5d51b.jpg -> Annotation:C:/Users/Mansur/RealTimeObjectDetection/Tensorflow/workspace/images/collectedimages\\thanks.42b7abb7-ad61-11ed-abdc-4851c5e5d51b.xml\n",
      "Image:C:\\Users\\Mansur\\RealTimeObjectDetection\\Tensorflow\\workspace\\images\\collectedimages\\thanks.43eb7666-ad61-11ed-9c76-4851c5e5d51b.jpg -> Annotation:C:/Users/Mansur/RealTimeObjectDetection/Tensorflow/workspace/images/collectedimages\\thanks.43eb7666-ad61-11ed-9c76-4851c5e5d51b.xml\n",
      "Image:C:\\Users\\Mansur\\RealTimeObjectDetection\\Tensorflow\\workspace\\images\\collectedimages\\thanks.48c0c6e9-ad61-11ed-bed7-4851c5e5d51b.jpg -> Annotation:C:/Users/Mansur/RealTimeObjectDetection/Tensorflow/workspace/images/collectedimages\\thanks.48c0c6e9-ad61-11ed-bed7-4851c5e5d51b.xml\n",
      "Image:C:\\Users\\Mansur\\RealTimeObjectDetection\\Tensorflow\\workspace\\images\\collectedimages\\thanks.49f5f4d0-ad61-11ed-ae8b-4851c5e5d51b.jpg -> Annotation:C:/Users/Mansur/RealTimeObjectDetection/Tensorflow/workspace/images/collectedimages\\thanks.49f5f4d0-ad61-11ed-ae8b-4851c5e5d51b.xml\n",
      "Image:C:\\Users\\Mansur\\RealTimeObjectDetection\\Tensorflow\\workspace\\images\\collectedimages\\thanks.451fe501-ad61-11ed-b8e3-4851c5e5d51b.jpg -> Annotation:C:/Users/Mansur/RealTimeObjectDetection/Tensorflow/workspace/images/collectedimages\\thanks.451fe501-ad61-11ed-b8e3-4851c5e5d51b.xml\n",
      "Image:C:\\Users\\Mansur\\RealTimeObjectDetection\\Tensorflow\\workspace\\images\\collectedimages\\thanks.478b4cfd-ad61-11ed-8746-4851c5e5d51b.jpg -> Annotation:C:/Users/Mansur/RealTimeObjectDetection/Tensorflow/workspace/images/collectedimages\\thanks.478b4cfd-ad61-11ed-8746-4851c5e5d51b.xml\n",
      "Image:C:\\Users\\Mansur\\RealTimeObjectDetection\\Tensorflow\\workspace\\images\\collectedimages\\thanks.512ef649-ad61-11ed-a64b-4851c5e5d51b.jpg -> Annotation:C:/Users/Mansur/RealTimeObjectDetection/Tensorflow/workspace/images/collectedimages\\thanks.512ef649-ad61-11ed-a64b-4851c5e5d51b.xml\n",
      "Image:C:\\Users\\Mansur\\RealTimeObjectDetection\\Tensorflow\\workspace\\images\\collectedimages\\thanks.539b1688-ad61-11ed-80f3-4851c5e5d51b.jpg -> Annotation:C:/Users/Mansur/RealTimeObjectDetection/Tensorflow/workspace/images/collectedimages\\thanks.539b1688-ad61-11ed-80f3-4851c5e5d51b.xml\n",
      "Image:C:\\Users\\Mansur\\RealTimeObjectDetection\\Tensorflow\\workspace\\images\\collectedimages\\thanks.4657a5f3-ad61-11ed-a5d4-4851c5e5d51b.jpg -> Annotation:C:/Users/Mansur/RealTimeObjectDetection/Tensorflow/workspace/images/collectedimages\\thanks.4657a5f3-ad61-11ed-a5d4-4851c5e5d51b.xml\n",
      "Image:C:\\Users\\Mansur\\RealTimeObjectDetection\\Tensorflow\\workspace\\images\\collectedimages\\thanks.526506c4-ad61-11ed-a241-4851c5e5d51b.jpg -> Annotation:C:/Users/Mansur/RealTimeObjectDetection/Tensorflow/workspace/images/collectedimages\\thanks.526506c4-ad61-11ed-a241-4851c5e5d51b.xml\n",
      "Image:C:\\Users\\Mansur\\RealTimeObjectDetection\\Tensorflow\\workspace\\images\\collectedimages\\yes.5aeaa4f6-ad61-11ed-afb2-4851c5e5d51b.jpg -> Annotation:C:/Users/Mansur/RealTimeObjectDetection/Tensorflow/workspace/images/collectedimages\\yes.5aeaa4f6-ad61-11ed-afb2-4851c5e5d51b.xml\n",
      "Image:C:\\Users\\Mansur\\RealTimeObjectDetection\\Tensorflow\\workspace\\images\\collectedimages\\yes.5c2053f4-ad61-11ed-ab04-4851c5e5d51b.jpg -> Annotation:C:/Users/Mansur/RealTimeObjectDetection/Tensorflow/workspace/images/collectedimages\\yes.5c2053f4-ad61-11ed-ab04-4851c5e5d51b.xml\n",
      "Image:C:\\Users\\Mansur\\RealTimeObjectDetection\\Tensorflow\\workspace\\images\\collectedimages\\yes.5d580c2e-ad61-11ed-bfba-4851c5e5d51b.jpg -> Annotation:C:/Users/Mansur/RealTimeObjectDetection/Tensorflow/workspace/images/collectedimages\\yes.5d580c2e-ad61-11ed-bfba-4851c5e5d51b.xml\n",
      "Image:C:\\Users\\Mansur\\RealTimeObjectDetection\\Tensorflow\\workspace\\images\\collectedimages\\yes.5e8dbefe-ad61-11ed-a3cf-4851c5e5d51b.jpg -> Annotation:C:/Users/Mansur/RealTimeObjectDetection/Tensorflow/workspace/images/collectedimages\\yes.5e8dbefe-ad61-11ed-a3cf-4851c5e5d51b.xml\n",
      "Image:C:\\Users\\Mansur\\RealTimeObjectDetection\\Tensorflow\\workspace\\images\\collectedimages\\yes.5fc186b0-ad61-11ed-841d-4851c5e5d51b.jpg -> Annotation:C:/Users/Mansur/RealTimeObjectDetection/Tensorflow/workspace/images/collectedimages\\yes.5fc186b0-ad61-11ed-841d-4851c5e5d51b.xml\n",
      "Image:C:\\Users\\Mansur\\RealTimeObjectDetection\\Tensorflow\\workspace\\images\\collectedimages\\yes.59b65c40-ad61-11ed-8b64-4851c5e5d51b.jpg -> Annotation:C:/Users/Mansur/RealTimeObjectDetection/Tensorflow/workspace/images/collectedimages\\yes.59b65c40-ad61-11ed-8b64-4851c5e5d51b.xml\n",
      "Image:C:\\Users\\Mansur\\RealTimeObjectDetection\\Tensorflow\\workspace\\images\\collectedimages\\yes.60f4e9cf-ad61-11ed-bbfd-4851c5e5d51b.jpg -> Annotation:C:/Users/Mansur/RealTimeObjectDetection/Tensorflow/workspace/images/collectedimages\\yes.60f4e9cf-ad61-11ed-bbfd-4851c5e5d51b.xml\n",
      "Image:C:\\Users\\Mansur\\RealTimeObjectDetection\\Tensorflow\\workspace\\images\\collectedimages\\yes.65c6765d-ad61-11ed-b0aa-4851c5e5d51b.jpg -> Annotation:C:/Users/Mansur/RealTimeObjectDetection/Tensorflow/workspace/images/collectedimages\\yes.65c6765d-ad61-11ed-b0aa-4851c5e5d51b.xml\n",
      "Image:C:\\Users\\Mansur\\RealTimeObjectDetection\\Tensorflow\\workspace\\images\\collectedimages\\yes.66fa6e3e-ad61-11ed-ab35-4851c5e5d51b.jpg -> Annotation:C:/Users/Mansur/RealTimeObjectDetection/Tensorflow/workspace/images/collectedimages\\yes.66fa6e3e-ad61-11ed-ab35-4851c5e5d51b.xml\n",
      "Cancel creation.\n",
      "Image:C:\\Users\\Mansur\\RealTimeObjectDetection\\Tensorflow\\workspace\\images\\collectedimages\\yes.587d8ca4-ad61-11ed-8cc3-4851c5e5d51b.jpg -> Annotation:C:/Users/Mansur/RealTimeObjectDetection/Tensorflow/workspace/images/collectedimages\\yes.587d8ca4-ad61-11ed-8cc3-4851c5e5d51b.xml\n",
      "Image:C:\\Users\\Mansur\\RealTimeObjectDetection\\Tensorflow\\workspace\\images\\collectedimages\\yes.635b67e9-ad61-11ed-9c74-4851c5e5d51b.jpg -> Annotation:C:/Users/Mansur/RealTimeObjectDetection/Tensorflow/workspace/images/collectedimages\\yes.635b67e9-ad61-11ed-9c74-4851c5e5d51b.xml\n",
      "Image:C:\\Users\\Mansur\\RealTimeObjectDetection\\Tensorflow\\workspace\\images\\collectedimages\\yes.682d5e88-ad61-11ed-a7d8-4851c5e5d51b.jpg -> Annotation:C:/Users/Mansur/RealTimeObjectDetection/Tensorflow/workspace/images/collectedimages\\yes.682d5e88-ad61-11ed-a7d8-4851c5e5d51b.xml\n",
      "Image:C:\\Users\\Mansur\\RealTimeObjectDetection\\Tensorflow\\workspace\\images\\collectedimages\\yes.6490b653-ad61-11ed-bf9f-4851c5e5d51b.jpg -> Annotation:C:/Users/Mansur/RealTimeObjectDetection/Tensorflow/workspace/images/collectedimages\\yes.6490b653-ad61-11ed-bf9f-4851c5e5d51b.xml\n",
      "Image:C:\\Users\\Mansur\\RealTimeObjectDetection\\Tensorflow\\workspace\\images\\collectedimages\\yes.696302fe-ad61-11ed-81db-4851c5e5d51b.jpg -> Annotation:C:/Users/Mansur/RealTimeObjectDetection/Tensorflow/workspace/images/collectedimages\\yes.696302fe-ad61-11ed-81db-4851c5e5d51b.xml\n",
      "Image:C:\\Users\\Mansur\\RealTimeObjectDetection\\Tensorflow\\workspace\\images\\collectedimages\\yes.62281411-ad61-11ed-8c86-4851c5e5d51b.jpg -> Annotation:C:/Users/Mansur/RealTimeObjectDetection/Tensorflow/workspace/images/collectedimages\\yes.62281411-ad61-11ed-8c86-4851c5e5d51b.xml\n"
     ]
    }
   ],
   "source": [
    "!cd {LABELIMG_PATH} & python labelImg.py"
   ]
  },
  {
   "cell_type": "code",
   "execution_count": null,
   "id": "37a2019a-d1b1-4989-9e89-447e613ebd6a",
   "metadata": {},
   "outputs": [],
   "source": []
  }
 ],
 "metadata": {
  "kernelspec": {
   "display_name": "Python 3 (ipykernel)",
   "language": "python",
   "name": "python3"
  },
  "language_info": {
   "codemirror_mode": {
    "name": "ipython",
    "version": 3
   },
   "file_extension": ".py",
   "mimetype": "text/x-python",
   "name": "python",
   "nbconvert_exporter": "python",
   "pygments_lexer": "ipython3",
   "version": "3.10.0"
  }
 },
 "nbformat": 4,
 "nbformat_minor": 5
}
